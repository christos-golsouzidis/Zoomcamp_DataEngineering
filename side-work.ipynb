{
 "cells": [
  {
   "cell_type": "markdown",
   "metadata": {},
   "source": [
    "<h2>Killing the processes that occupy the port 5432</h2>"
   ]
  },
  {
   "cell_type": "code",
   "execution_count": null,
   "metadata": {
    "vscode": {
     "languageId": "plaintext"
    }
   },
   "outputs": [],
   "source": [
    "sudo lsof -i :5432"
   ]
  },
  {
   "cell_type": "markdown",
   "metadata": {},
   "source": [
    "This produces the following output:"
   ]
  },
  {
   "cell_type": "code",
   "execution_count": null,
   "metadata": {
    "vscode": {
     "languageId": "plaintext"
    }
   },
   "outputs": [],
   "source": [
    "COMMAND  PID     USER   FD   TYPE DEVICE SIZE/OFF NODE NAME\n",
    "postgres 907 postgres    6u  IPv4  31437      0t0  TCP localhost:postgresql (LISTEN)"
   ]
  },
  {
   "cell_type": "markdown",
   "metadata": {},
   "source": [
    "here \\<PID\\> = 907"
   ]
  },
  {
   "cell_type": "code",
   "execution_count": null,
   "metadata": {
    "vscode": {
     "languageId": "plaintext"
    }
   },
   "outputs": [],
   "source": [
    "sudo kill <PID>"
   ]
  },
  {
   "cell_type": "markdown",
   "metadata": {},
   "source": [
    "<h2>Connect to postgres</h2>"
   ]
  },
  {
   "cell_type": "code",
   "execution_count": null,
   "metadata": {
    "vscode": {
     "languageId": "plaintext"
    }
   },
   "outputs": [],
   "source": [
    "\n",
    "sudo docker run -it \\\n",
    "-e POSTGRES_USER='root' \\\n",
    "-e POSTGRES_PASSWORD='root' \\\n",
    "-e POSTGRES_DB='ny_taxi' \\\n",
    "-v $(pwd)/ny_taxi_data_pg:/var/lib/postgresql/data \\\n",
    "-p 5432:5432 \\\n",
    "postgres:16"
   ]
  },
  {
   "cell_type": "markdown",
   "metadata": {},
   "source": [
    "Open a new terminal window and paste the following command to open postgres CLI"
   ]
  },
  {
   "cell_type": "code",
   "execution_count": null,
   "metadata": {
    "vscode": {
     "languageId": "plaintext"
    }
   },
   "outputs": [],
   "source": [
    "pgcli -h localhost -p 5432 -u root -d ny_taxi"
   ]
  },
  {
   "cell_type": "markdown",
   "metadata": {},
   "source": [
    "root@localhost:ny_taxi>"
   ]
  },
  {
   "cell_type": "markdown",
   "metadata": {},
   "source": [
    "Now this is the prompt of Postgres. To see the tables in the DB type the following command:"
   ]
  },
  {
   "cell_type": "code",
   "execution_count": null,
   "metadata": {
    "vscode": {
     "languageId": "plaintext"
    }
   },
   "outputs": [],
   "source": [
    "\\dt"
   ]
  },
  {
   "cell_type": "markdown",
   "metadata": {},
   "source": [
    "<h2>Running pgAdmin in a container</h2>"
   ]
  },
  {
   "cell_type": "code",
   "execution_count": null,
   "metadata": {
    "vscode": {
     "languageId": "plaintext"
    }
   },
   "outputs": [],
   "source": [
    "sudo docker run -it \\\n",
    "-e PGADMIN_DEFAULT_EMAIL='admin@admin.com' \\\n",
    "-e PGADMIN_DEFAULT_PASSWORD='root' \\\n",
    "-p 8080:80 \\\n",
    "dpage/pgadmin4"
   ]
  },
  {
   "cell_type": "code",
   "execution_count": null,
   "metadata": {
    "vscode": {
     "languageId": "plaintext"
    }
   },
   "outputs": [],
   "source": []
  },
  {
   "cell_type": "markdown",
   "metadata": {},
   "source": [
    "Create a network with 2 containers. "
   ]
  },
  {
   "cell_type": "code",
   "execution_count": null,
   "metadata": {
    "vscode": {
     "languageId": "plaintext"
    }
   },
   "outputs": [],
   "source": [
    "sudo docker network create pg-network"
   ]
  },
  {
   "cell_type": "code",
   "execution_count": null,
   "metadata": {
    "vscode": {
     "languageId": "plaintext"
    }
   },
   "outputs": [],
   "source": [
    "sudo docker run -it \\\n",
    "-e POSTGRES_USER='root' \\\n",
    "-e POSTGRES_PASSWORD='root' \\\n",
    "-e POSTGRES_DB='ny_taxi' \\\n",
    "-v $(pwd)/ny_taxi_data_pg:/var/lib/postgresql/data \\\n",
    "-p 5432:5432 \\\n",
    "--network=pg-network \\\n",
    "--name pg-database \\\n",
    "postgres:16"
   ]
  },
  {
   "cell_type": "code",
   "execution_count": null,
   "metadata": {
    "vscode": {
     "languageId": "plaintext"
    }
   },
   "outputs": [],
   "source": [
    "sudo docker run -it \\\n",
    "-e PGADMIN_DEFAULT_EMAIL='admin@admin.com' \\\n",
    "-e PGADMIN_DEFAULT_PASSWORD='root' \\\n",
    "-p 8080:80 \\\n",
    "--network=pg-network \\\n",
    "--name pgadmin \\\n",
    "dpage/pgadmin4"
   ]
  }
 ],
 "metadata": {
  "language_info": {
   "name": "python"
  }
 },
 "nbformat": 4,
 "nbformat_minor": 2
}
